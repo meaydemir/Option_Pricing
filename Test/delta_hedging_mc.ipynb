{
 "cells": [
  {
   "cell_type": "code",
   "execution_count": 1,
   "metadata": {},
   "outputs": [
    {
     "ename": "ModuleNotFoundError",
     "evalue": "No module named 'Utils'",
     "output_type": "error",
     "traceback": [
      "\u001b[1;31m---------------------------------------------------------------------------\u001b[0m",
      "\u001b[1;31mModuleNotFoundError\u001b[0m                       Traceback (most recent call last)",
      "\u001b[1;32m~\\AppData\\Local\\Temp/ipykernel_7888/3396693166.py\u001b[0m in \u001b[0;36m<module>\u001b[1;34m\u001b[0m\n\u001b[0;32m      2\u001b[0m \u001b[1;32mimport\u001b[0m \u001b[0mnumpy\u001b[0m \u001b[1;32mas\u001b[0m \u001b[0mnp\u001b[0m\u001b[1;33m\u001b[0m\u001b[1;33m\u001b[0m\u001b[0m\n\u001b[0;32m      3\u001b[0m \u001b[1;32mimport\u001b[0m \u001b[0mmatplotlib\u001b[0m\u001b[1;33m.\u001b[0m\u001b[0mpyplot\u001b[0m \u001b[1;32mas\u001b[0m \u001b[0mplt\u001b[0m\u001b[1;33m\u001b[0m\u001b[1;33m\u001b[0m\u001b[0m\n\u001b[1;32m----> 4\u001b[1;33m \u001b[1;32mimport\u001b[0m \u001b[0mUtils\u001b[0m\u001b[1;33m.\u001b[0m\u001b[0mhedging_utils\u001b[0m \u001b[1;32mas\u001b[0m \u001b[0mhu\u001b[0m\u001b[1;33m\u001b[0m\u001b[1;33m\u001b[0m\u001b[0m\n\u001b[0m\u001b[0;32m      5\u001b[0m \u001b[1;32mimport\u001b[0m \u001b[0mUtils\u001b[0m\u001b[1;33m.\u001b[0m\u001b[0mgreeks\u001b[0m \u001b[1;32mas\u001b[0m \u001b[0mgr\u001b[0m\u001b[1;33m\u001b[0m\u001b[1;33m\u001b[0m\u001b[0m\n\u001b[0;32m      6\u001b[0m \u001b[1;32mimport\u001b[0m \u001b[0mUtils\u001b[0m\u001b[1;33m.\u001b[0m\u001b[0moption_pricing_utils\u001b[0m \u001b[1;32mas\u001b[0m \u001b[0mopu\u001b[0m\u001b[1;33m\u001b[0m\u001b[1;33m\u001b[0m\u001b[0m\n",
      "\u001b[1;31mModuleNotFoundError\u001b[0m: No module named 'Utils'"
     ]
    }
   ],
   "source": [
    "import pandas as pd\n",
    "import numpy as np\n",
    "import matplotlib.pyplot as plt\n",
    "import Utils.hedging_utils as hu\n",
    "import Utils.greeks as gr\n",
    "import Utils.option_pricing_utils as opu"
   ]
  },
  {
   "cell_type": "code",
   "execution_count": null,
   "metadata": {},
   "outputs": [],
   "source": [
    "option_exposure = -100000  # Number of options held in portfolio that we want to hedge\n",
    "S0 = 49\n",
    "r = 0.05\n",
    "sigma = 0.2\n",
    "#sigma2 = 0.2 # Realized vol of the path (greater than vol used in BS price - we underestimate)\n",
    "q = 0\n",
    "T = 20/52 \n",
    "K = 50\n",
    "type = 'c'\n",
    "M=100000\n",
    "N=5"
   ]
  },
  {
   "cell_type": "code",
   "execution_count": null,
   "metadata": {},
   "outputs": [
    {
     "name": "stdout",
     "output_type": "stream",
     "text": [
      "The time of execution of is: 0.0\n",
      "Option price is 2.4005273232717137\n"
     ]
    },
    {
     "data": {
      "text/plain": [
       "2.4005273232717137"
      ]
     },
     "execution_count": 8,
     "metadata": {},
     "output_type": "execute_result"
    }
   ],
   "source": [
    "# True BS Price\n",
    "bs_price = opu.get_bs_price_analytical(S0, K, T, sigma, r, q, type, display_result=True)\n",
    "bs_price"
   ]
  },
  {
   "cell_type": "code",
   "execution_count": null,
   "metadata": {},
   "outputs": [],
   "source": [
    "np.seterr(divide='ignore')\n",
    "discounted_hedging_cost_array = np.array([hu.simulate_delta_hedge(S0, K, T, sigma, r, q, type, option_exposure, M) for x in range(N)])\n",
    "print(discounted_hedging_cost_array)\n",
    "print(f'Mean = {np.mean(discounted_hedging_cost_array)}')"
   ]
  }
 ],
 "metadata": {
  "interpreter": {
   "hash": "0e2f4f987df87ba45bac6e3d2b5aac53efddd4cafd54719d4f43a49e15be5f4c"
  },
  "kernelspec": {
   "display_name": "Python 3.8.12 ('myenv3')",
   "language": "python",
   "name": "python3"
  },
  "language_info": {
   "codemirror_mode": {
    "name": "ipython",
    "version": 3
   },
   "file_extension": ".py",
   "mimetype": "text/x-python",
   "name": "python",
   "nbconvert_exporter": "python",
   "pygments_lexer": "ipython3",
   "version": "3.8.12"
  },
  "orig_nbformat": 4
 },
 "nbformat": 4,
 "nbformat_minor": 2
}
