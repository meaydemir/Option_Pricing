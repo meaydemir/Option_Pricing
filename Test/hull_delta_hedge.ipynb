{
 "cells": [
  {
   "cell_type": "code",
   "execution_count": 62,
   "metadata": {},
   "outputs": [],
   "source": [
    "import pandas as pd\n",
    "import numpy as np\n",
    "import matplotlib.pyplot as plt\n",
    "import Utils.greeks as gr\n",
    "import Utils.option_pricing_utils as opu"
   ]
  },
  {
   "cell_type": "code",
   "execution_count": 63,
   "metadata": {},
   "outputs": [],
   "source": [
    "option_exposure = -100000  # Number of options held in portfolio that we want to hedge\n",
    "S0 = 49\n",
    "r = 0.05\n",
    "sigma = 0.2\n",
    "sigma2 = 0.2 # Realized vol of the path (greater than vol used in BS price - we underestimate)\n",
    "q = 0\n",
    "T = 20/52 #20/52\n",
    "K = 50\n",
    "type = 'c'"
   ]
  },
  {
   "cell_type": "code",
   "execution_count": 64,
   "metadata": {},
   "outputs": [
    {
     "data": {
      "image/png": "[encoded data removed]",
      "text/plain": [
       "<Figure size 432x288 with 1 Axes>"
      ]
     },
     "metadata": {
      "needs_background": "light"
     },
     "output_type": "display_data"
    }
   ],
   "source": [
    "# Geometric Brownian Motion\n",
    "# dSt = rSt dt + sigma*St dWt\n",
    "#np.random.seed(seed=1)\n",
    "M = 10000\n",
    "W = np.random.normal(loc=0.0, scale=1.0, size=M)\n",
    "T_array = np.linspace(T, 0, M)\n",
    "dt = T_array[0] - T_array[1]\n",
    "\n",
    "S = np.zeros(M)\n",
    "S[0] = S0\n",
    "for i in range(M-1):\n",
    "    S[i+1] = S[i] + r*S[i]*dt + sigma2*S[i]*W[i]*np.sqrt(dt)\n",
    "\n",
    "plt.plot(S)\n",
    "plt.title('GBM Path')\n",
    "plt.show()"
   ]
  },
  {
   "cell_type": "code",
   "execution_count": 65,
   "metadata": {},
   "outputs": [
    {
     "name": "stderr",
     "output_type": "stream",
     "text": [
      "c:\\Users\\Matthew\\Documents\\Python Scripts\\Option_Pricing\\Utils\\option_pricing_utils.py:7: RuntimeWarning: divide by zero encountered in true_divide\n",
      "  d1 = (np.log(S/K) + (r-q+sigma**2/2)*T)/(sigma*np.sqrt(T))\n",
      "c:\\Users\\Matthew\\Documents\\Python Scripts\\Option_Pricing\\Utils\\greeks.py:19: RuntimeWarning: invalid value encountered in true_divide\n",
      "  return norm.pdf(d1)*np.exp(-q*T)/(S*sigma*np.sqrt(T))\n",
      "c:\\Users\\Matthew\\Documents\\Python Scripts\\Option_Pricing\\Utils\\greeks.py:26: RuntimeWarning: invalid value encountered in true_divide\n",
      "  theta_call = -r*K*np.exp(-r*T)*norm.cdf(d2) - S*norm.pdf(d1)*sigma*np.exp(-q*T)/(2*np.sqrt(T)) + q*S*norm.cdf(d1)*np.exp(-q*T)\n"
     ]
    },
    {
     "name": "stdout",
     "output_type": "stream",
     "text": [
      "The time of execution of is: 32.862529039382935\n",
      "Option price is [2.40052732 2.40075174 2.40089507 ... 0.         0.         0.        ]\n"
     ]
    }
   ],
   "source": [
    "delta_array = gr.get_delta(S, K, T_array, sigma, r, q, type)\n",
    "gamma_array = gr.get_gamma(S, K, T_array, sigma, r, q, type)\n",
    "theta_array = gr.get_theta(S, K, T_array, sigma, r, q, type)\n",
    "option_value_array = opu.get_bs_price_analytical(S, K, T_array, sigma, r, q, type)*option_exposure"
   ]
  },
  {
   "cell_type": "code",
   "execution_count": 66,
   "metadata": {},
   "outputs": [
    {
     "data": {
      "text/html": [
       "<div>\n",
       "<style scoped>\n",
       "    .dataframe tbody tr th:only-of-type {\n",
       "        vertical-align: middle;\n",
       "    }\n",
       "\n",
       "    .dataframe tbody tr th {\n",
       "        vertical-align: top;\n",
       "    }\n",
       "\n",
       "    .dataframe thead th {\n",
       "        text-align: right;\n",
       "    }\n",
       "</style>\n",
       "<table border=\"1\" class=\"dataframe\">\n",
       "  <thead>\n",
       "    <tr style=\"text-align: right;\">\n",
       "      <th></th>\n",
       "      <th>Stock_Price</th>\n",
       "      <th>Option_Value</th>\n",
       "      <th>Delta</th>\n",
       "    </tr>\n",
       "  </thead>\n",
       "  <tbody>\n",
       "    <tr>\n",
       "      <th>0</th>\n",
       "      <td>49.000000</td>\n",
       "      <td>-240052.732327</td>\n",
       "      <td>0.521605</td>\n",
       "    </tr>\n",
       "    <tr>\n",
       "      <th>1</th>\n",
       "      <td>49.000430</td>\n",
       "      <td>-240075.174494</td>\n",
       "      <td>0.521633</td>\n",
       "    </tr>\n",
       "    <tr>\n",
       "      <th>2</th>\n",
       "      <td>49.000705</td>\n",
       "      <td>-240089.506754</td>\n",
       "      <td>0.521651</td>\n",
       "    </tr>\n",
       "    <tr>\n",
       "      <th>3</th>\n",
       "      <td>49.001135</td>\n",
       "      <td>-240111.957534</td>\n",
       "      <td>0.521679</td>\n",
       "    </tr>\n",
       "    <tr>\n",
       "      <th>4</th>\n",
       "      <td>49.000502</td>\n",
       "      <td>-240078.902228</td>\n",
       "      <td>0.521638</td>\n",
       "    </tr>\n",
       "    <tr>\n",
       "      <th>...</th>\n",
       "      <td>...</td>\n",
       "      <td>...</td>\n",
       "      <td>...</td>\n",
       "    </tr>\n",
       "    <tr>\n",
       "      <th>99999995</th>\n",
       "      <td>44.418617</td>\n",
       "      <td>-0.000000</td>\n",
       "      <td>0.000000</td>\n",
       "    </tr>\n",
       "    <tr>\n",
       "      <th>99999996</th>\n",
       "      <td>44.418449</td>\n",
       "      <td>-0.000000</td>\n",
       "      <td>0.000000</td>\n",
       "    </tr>\n",
       "    <tr>\n",
       "      <th>99999997</th>\n",
       "      <td>44.417730</td>\n",
       "      <td>-0.000000</td>\n",
       "      <td>0.000000</td>\n",
       "    </tr>\n",
       "    <tr>\n",
       "      <th>99999998</th>\n",
       "      <td>44.418052</td>\n",
       "      <td>-0.000000</td>\n",
       "      <td>0.000000</td>\n",
       "    </tr>\n",
       "    <tr>\n",
       "      <th>99999999</th>\n",
       "      <td>44.417983</td>\n",
       "      <td>-0.000000</td>\n",
       "      <td>0.000000</td>\n",
       "    </tr>\n",
       "  </tbody>\n",
       "</table>\n",
       "<p>100000000 rows × 3 columns</p>\n",
       "</div>"
      ],
      "text/plain": [
       "          Stock_Price   Option_Value     Delta\n",
       "0           49.000000 -240052.732327  0.521605\n",
       "1           49.000430 -240075.174494  0.521633\n",
       "2           49.000705 -240089.506754  0.521651\n",
       "3           49.001135 -240111.957534  0.521679\n",
       "4           49.000502 -240078.902228  0.521638\n",
       "...               ...            ...       ...\n",
       "99999995    44.418617      -0.000000  0.000000\n",
       "99999996    44.418449      -0.000000  0.000000\n",
       "99999997    44.417730      -0.000000  0.000000\n",
       "99999998    44.418052      -0.000000  0.000000\n",
       "99999999    44.417983      -0.000000  0.000000\n",
       "\n",
       "[100000000 rows x 3 columns]"
      ]
     },
     "execution_count": 66,
     "metadata": {},
     "output_type": "execute_result"
    }
   ],
   "source": [
    "summary_df = pd.DataFrame(list(zip(S, option_value_array, delta_array)), columns=['Stock_Price', 'Option_Value', 'Delta'])\n",
    "summary_df"
   ]
  },
  {
   "cell_type": "code",
   "execution_count": 67,
   "metadata": {},
   "outputs": [],
   "source": [
    "summary_df['Shares_Held'] = -option_exposure*delta_array\n",
    "summary_df['Shares_Purchased'] = -summary_df['Shares_Held'].sub(summary_df['Shares_Held'].shift(-1).fillna(0)).shift().fillna(-summary_df['Shares_Held'])\n",
    "summary_df['Cost_of_Shares_Purchased'] = summary_df['Shares_Purchased'].mul(summary_df['Stock_Price'])\n",
    "summary_df['Cumulative_Cost'] = summary_df['Cost_of_Shares_Purchased'].cumsum()\n",
    "summary_df['Share_PnL'] = summary_df['Shares_Held'].shift()*(summary_df['Stock_Price'] - summary_df['Stock_Price'].shift())\n",
    "\n",
    "summary_df['Interest_Cost'] = (summary_df['Shares_Held']*summary_df['Stock_Price']).shift()*r*dt + summary_df['Option_Value'].shift()*r*dt\n",
    "summary_df['Option_PnL'] = summary_df['Option_Value'] - summary_df['Option_Value'].shift()\n",
    "summary_df['Portfolio_PnL'] = summary_df['Share_PnL'] - summary_df['Interest_Cost'] \n",
    "summary_df['Hedged_Portfolio_PnL'] = summary_df['Portfolio_PnL'] + summary_df['Option_PnL'] \n",
    "\n",
    "summary_df['Portfolio_Value'] = -summary_df['Option_Value']\n",
    "for i in range(1, len(summary_df)):\n",
    "    summary_df['Portfolio_Value'].iloc[i] = summary_df['Portfolio_Value'].iloc[i-1] + summary_df['Share_PnL'].iloc[i] + (summary_df['Portfolio_Value'].iloc[i-1] - summary_df['Shares_Held'].iloc[i-1]*summary_df['Stock_Price'].iloc[i-1])*r*dt \n",
    "summary_df['Portfolio_PnL2'] = summary_df['Portfolio_Value'] - summary_df['Portfolio_Value'].shift()\n",
    "summary_df['Hedged_Portfolio_PnL2'] = summary_df['Portfolio_PnL2'] + summary_df['Option_PnL'] \n",
    "\n",
    "summary_df"
   ]
  },
  {
   "cell_type": "code",
   "execution_count": null,
   "metadata": {},
   "outputs": [
    {
     "name": "stderr",
     "output_type": "stream",
     "text": [
      "c:\\Users\\Matthew\\anaconda3\\envs\\myenv3\\lib\\site-packages\\IPython\\core\\pylabtools.py:151: UserWarning: Creating legend with loc=\"best\" can be slow with large amounts of data.\n",
      "  fig.canvas.print_figure(bytes_io, **kw)\n"
     ]
    },
    {
     "data": {
      "image/png": "[encoded data removed]",
      "text/plain": [
       "<Figure size 432x288 with 1 Axes>"
      ]
     },
     "metadata": {
      "needs_background": "light"
     },
     "output_type": "display_data"
    }
   ],
   "source": [
    "plt.plot(summary_df['Option_PnL'].cumsum(), label='Option')\n",
    "plt.plot(summary_df['Portfolio_PnL'].cumsum(), label='Replication')\n",
    "plt.plot(summary_df['Hedged_Portfolio_PnL'].cumsum())\n",
    "plt.plot(summary_df['Hedged_Portfolio_PnL2'].cumsum())\n",
    "\n",
    "plt.legend()\n",
    "plt.show()"
   ]
  },
  {
   "cell_type": "code",
   "execution_count": null,
   "metadata": {},
   "outputs": [
    {
     "data": {
      "text/plain": [
       "[<matplotlib.lines.Line2D at 0x1c169bd0730>]"
      ]
     },
     "execution_count": 59,
     "metadata": {},
     "output_type": "execute_result"
    },
    {
     "data": {
      "image/png": "[encoded data removed]",
      "text/plain": [
       "<Figure size 432x288 with 1 Axes>"
      ]
     },
     "metadata": {
      "needs_background": "light"
     },
     "output_type": "display_data"
    }
   ],
   "source": [
    "plt.plot(summary_df['Hedged_Portfolio_PnL'].cumsum())\n"
   ]
  },
  {
   "cell_type": "code",
   "execution_count": null,
   "metadata": {},
   "outputs": [
    {
     "name": "stdout",
     "output_type": "stream",
     "text": [
      "Hedging Error: $-94.79128590086475\n"
     ]
    }
   ],
   "source": [
    "hedging_pnl = summary_df['Portfolio_PnL'].cumsum().iloc[-1] + summary_df['Option_PnL'].cumsum().iloc[-1]\n",
    "print(f'Hedging Error: ${hedging_pnl}')\n"
   ]
  },
  {
   "cell_type": "code",
   "execution_count": null,
   "metadata": {},
   "outputs": [
    {
     "name": "stdout",
     "output_type": "stream",
     "text": [
      "Hedging Error2: $-96.236523661908\n"
     ]
    }
   ],
   "source": [
    "hedging_pnl = summary_df['Portfolio_PnL2'].cumsum().iloc[-1] + summary_df['Option_PnL'].cumsum().iloc[-1]\n",
    "print(f'Hedging Error2: ${hedging_pnl}')"
   ]
  }
 ],
 "metadata": {
  "kernelspec": {
   "display_name": "Python 3.8.12 ('myenv3')",
   "language": "python",
   "name": "python3"
  },
  "language_info": {
   "codemirror_mode": {
    "name": "ipython",
    "version": 3
   },
   "file_extension": ".py",
   "mimetype": "text/x-python",
   "name": "python",
   "nbconvert_exporter": "python",
   "pygments_lexer": "ipython3",
   "version": "3.8.12"
  },
  "orig_nbformat": 4,
  "vscode": {
   "interpreter": {
    "hash": "0e2f4f987df87ba45bac6e3d2b5aac53efddd4cafd54719d4f43a49e15be5f4c"
   }
  }
 },
 "nbformat": 4,
 "nbformat_minor": 2
}
