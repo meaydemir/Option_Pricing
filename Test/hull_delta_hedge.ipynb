{
 "cells": [
  {
   "cell_type": "code",
   "execution_count": 50,
   "metadata": {},
   "outputs": [],
   "source": [
    "import pandas as pd\n",
    "import numpy as np\n",
    "import matplotlib.pyplot as plt\n",
    "import Utils.greeks as gr\n",
    "import Utils.option_pricing_utils as opu"
   ]
  },
  {
   "cell_type": "code",
   "execution_count": 51,
   "metadata": {},
   "outputs": [],
   "source": [
    "option_exposure = -100000  # Number of options held in portfolio that we want to hedge\n",
    "S0 = 49\n",
    "r = 0.05\n",
    "sigma = 0.2\n",
    "sigma2 = 0.2 # Realized vol of the path (greater than vol used in BS price - we underestimate)\n",
    "q = 0\n",
    "T = 20/52 #20/52\n",
    "K = 50\n",
    "type = 'c'"
   ]
  },
  {
   "cell_type": "code",
   "execution_count": 52,
   "metadata": {},
   "outputs": [
    {
     "data": {
      "image/png": "[encoded data removed]",
      "text/plain": [
       "<Figure size 432x288 with 1 Axes>"
      ]
     },
     "metadata": {
      "needs_background": "light"
     },
     "output_type": "display_data"
    }
   ],
   "source": [
    "# Geometric Brownian Motion\n",
    "# dSt = rSt dt + sigma*St dWt\n",
    "#np.random.seed(seed=1)\n",
    "M = 100000000\n",
    "W = np.random.normal(loc=0.0, scale=1.0, size=M)\n",
    "T_array = np.linspace(T, 0, M)\n",
    "dt = T_array[0] - T_array[1]\n",
    "\n",
    "S = np.zeros(M)\n",
    "S[0] = S0\n",
    "for i in range(M-1):\n",
    "    S[i+1] = S[i] + r*S[i]*dt + sigma2*S[i]*W[i]*np.sqrt(dt)\n",
    "\n",
    "plt.plot(S)\n",
    "plt.title('GBM Path')\n",
    "plt.show()"
   ]
  },
  {
   "cell_type": "code",
   "execution_count": 53,
   "metadata": {},
   "outputs": [
    {
     "name": "stderr",
     "output_type": "stream",
     "text": [
      "c:\\Users\\Matthew\\Documents\\Python Scripts\\Option_Pricing\\Utils\\option_pricing_utils.py:7: RuntimeWarning: divide by zero encountered in true_divide\n",
      "  d1 = (np.log(S/K) + (r-q+sigma**2/2)*T)/(sigma*np.sqrt(T))\n",
      "c:\\Users\\Matthew\\Documents\\Python Scripts\\Option_Pricing\\Utils\\greeks.py:19: RuntimeWarning: invalid value encountered in true_divide\n",
      "  return norm.pdf(d1)*np.exp(-q*T)/(S*sigma*np.sqrt(T))\n",
      "c:\\Users\\Matthew\\Documents\\Python Scripts\\Option_Pricing\\Utils\\greeks.py:26: RuntimeWarning: invalid value encountered in true_divide\n",
      "  theta_call = -r*K*np.exp(-r*T)*norm.cdf(d2) - S*norm.pdf(d1)*sigma*np.exp(-q*T)/(2*np.sqrt(T)) + q*S*norm.cdf(d1)*np.exp(-q*T)\n"
     ]
    },
    {
     "name": "stdout",
     "output_type": "stream",
     "text": [
      "The time of execution of is: 23.35174250602722\n",
      "Option price is [2.40052732 2.40034296 2.40016805 ... 0.91890866 0.91962742 0.91898848]\n"
     ]
    }
   ],
   "source": [
    "delta_array = gr.get_delta(S, K, T_array, sigma, r, q, type)\n",
    "gamma_array = gr.get_gamma(S, K, T_array, sigma, r, q, type)\n",
    "theta_array = gr.get_theta(S, K, T_array, sigma, r, q, type)\n",
    "option_value_array = opu.get_bs_price_analytical(S, K, T_array, sigma, r, q, type)*option_exposure"
   ]
  },
  {
   "cell_type": "code",
   "execution_count": 54,
   "metadata": {},
   "outputs": [
    {
     "data": {
      "text/html": [
       "<div>\n",
       "<style scoped>\n",
       "    .dataframe tbody tr th:only-of-type {\n",
       "        vertical-align: middle;\n",
       "    }\n",
       "\n",
       "    .dataframe tbody tr th {\n",
       "        vertical-align: top;\n",
       "    }\n",
       "\n",
       "    .dataframe thead th {\n",
       "        text-align: right;\n",
       "    }\n",
       "</style>\n",
       "<table border=\"1\" class=\"dataframe\">\n",
       "  <thead>\n",
       "    <tr style=\"text-align: right;\">\n",
       "      <th></th>\n",
       "      <th>Stock_Price</th>\n",
       "      <th>Option_Value</th>\n",
       "      <th>Delta</th>\n",
       "    </tr>\n",
       "  </thead>\n",
       "  <tbody>\n",
       "    <tr>\n",
       "      <th>0</th>\n",
       "      <td>49.000000</td>\n",
       "      <td>-240052.732327</td>\n",
       "      <td>0.521605</td>\n",
       "    </tr>\n",
       "    <tr>\n",
       "      <th>1</th>\n",
       "      <td>48.999647</td>\n",
       "      <td>-240034.295570</td>\n",
       "      <td>0.521581</td>\n",
       "    </tr>\n",
       "    <tr>\n",
       "      <th>2</th>\n",
       "      <td>48.999311</td>\n",
       "      <td>-240016.805298</td>\n",
       "      <td>0.521560</td>\n",
       "    </tr>\n",
       "    <tr>\n",
       "      <th>3</th>\n",
       "      <td>48.998781</td>\n",
       "      <td>-239989.163314</td>\n",
       "      <td>0.521525</td>\n",
       "    </tr>\n",
       "    <tr>\n",
       "      <th>4</th>\n",
       "      <td>48.999019</td>\n",
       "      <td>-240001.539448</td>\n",
       "      <td>0.521540</td>\n",
       "    </tr>\n",
       "    <tr>\n",
       "      <th>...</th>\n",
       "      <td>...</td>\n",
       "      <td>...</td>\n",
       "      <td>...</td>\n",
       "    </tr>\n",
       "    <tr>\n",
       "      <th>99999995</th>\n",
       "      <td>50.917948</td>\n",
       "      <td>-91794.845542</td>\n",
       "      <td>1.000000</td>\n",
       "    </tr>\n",
       "    <tr>\n",
       "      <th>99999996</th>\n",
       "      <td>50.919191</td>\n",
       "      <td>-91919.059819</td>\n",
       "      <td>1.000000</td>\n",
       "    </tr>\n",
       "    <tr>\n",
       "      <th>99999997</th>\n",
       "      <td>50.918909</td>\n",
       "      <td>-91890.866009</td>\n",
       "      <td>1.000000</td>\n",
       "    </tr>\n",
       "    <tr>\n",
       "      <th>99999998</th>\n",
       "      <td>50.919627</td>\n",
       "      <td>-91962.742379</td>\n",
       "      <td>1.000000</td>\n",
       "    </tr>\n",
       "    <tr>\n",
       "      <th>99999999</th>\n",
       "      <td>50.918988</td>\n",
       "      <td>-91898.847943</td>\n",
       "      <td>1.000000</td>\n",
       "    </tr>\n",
       "  </tbody>\n",
       "</table>\n",
       "<p>100000000 rows × 3 columns</p>\n",
       "</div>"
      ],
      "text/plain": [
       "          Stock_Price   Option_Value     Delta\n",
       "0           49.000000 -240052.732327  0.521605\n",
       "1           48.999647 -240034.295570  0.521581\n",
       "2           48.999311 -240016.805298  0.521560\n",
       "3           48.998781 -239989.163314  0.521525\n",
       "4           48.999019 -240001.539448  0.521540\n",
       "...               ...            ...       ...\n",
       "99999995    50.917948  -91794.845542  1.000000\n",
       "99999996    50.919191  -91919.059819  1.000000\n",
       "99999997    50.918909  -91890.866009  1.000000\n",
       "99999998    50.919627  -91962.742379  1.000000\n",
       "99999999    50.918988  -91898.847943  1.000000\n",
       "\n",
       "[100000000 rows x 3 columns]"
      ]
     },
     "execution_count": 54,
     "metadata": {},
     "output_type": "execute_result"
    }
   ],
   "source": [
    "summary_df = pd.DataFrame(list(zip(S, option_value_array, delta_array)), columns=['Stock_Price', 'Option_Value', 'Delta'])\n",
    "summary_df"
   ]
  },
  {
   "cell_type": "code",
   "execution_count": 55,
   "metadata": {},
   "outputs": [
    {
     "data": {
      "text/html": [
       "<div>\n",
       "<style scoped>\n",
       "    .dataframe tbody tr th:only-of-type {\n",
       "        vertical-align: middle;\n",
       "    }\n",
       "\n",
       "    .dataframe tbody tr th {\n",
       "        vertical-align: top;\n",
       "    }\n",
       "\n",
       "    .dataframe thead th {\n",
       "        text-align: right;\n",
       "    }\n",
       "</style>\n",
       "<table border=\"1\" class=\"dataframe\">\n",
       "  <thead>\n",
       "    <tr style=\"text-align: right;\">\n",
       "      <th></th>\n",
       "      <th>Stock_Price</th>\n",
       "      <th>Option_Value</th>\n",
       "      <th>Delta</th>\n",
       "      <th>Shares_Held</th>\n",
       "      <th>Shares_Purchased</th>\n",
       "      <th>Cost_of_Shares_Purchased</th>\n",
       "      <th>Cumulative_Cost</th>\n",
       "      <th>Share_PnL</th>\n",
       "      <th>Interest_Cost</th>\n",
       "      <th>Option_PnL</th>\n",
       "      <th>Portfolio_PnL</th>\n",
       "      <th>Hedged_Portfolio_PnL</th>\n",
       "    </tr>\n",
       "  </thead>\n",
       "  <tbody>\n",
       "    <tr>\n",
       "      <th>0</th>\n",
       "      <td>49.000000</td>\n",
       "      <td>-240052.732327</td>\n",
       "      <td>0.521605</td>\n",
       "      <td>52160.466107</td>\n",
       "      <td>52160.466107</td>\n",
       "      <td>2.555863e+06</td>\n",
       "      <td>2.555863e+06</td>\n",
       "      <td>NaN</td>\n",
       "      <td>NaN</td>\n",
       "      <td>NaN</td>\n",
       "      <td>NaN</td>\n",
       "      <td>NaN</td>\n",
       "    </tr>\n",
       "    <tr>\n",
       "      <th>1</th>\n",
       "      <td>48.999647</td>\n",
       "      <td>-240034.295570</td>\n",
       "      <td>0.521581</td>\n",
       "      <td>52158.149441</td>\n",
       "      <td>-2.316666</td>\n",
       "      <td>-1.135158e+02</td>\n",
       "      <td>2.555749e+06</td>\n",
       "      <td>-18.435511</td>\n",
       "      <td>0.000445</td>\n",
       "      <td>18.436757</td>\n",
       "      <td>-18.435956</td>\n",
       "      <td>8.011355e-04</td>\n",
       "    </tr>\n",
       "    <tr>\n",
       "      <th>2</th>\n",
       "      <td>48.999311</td>\n",
       "      <td>-240016.805298</td>\n",
       "      <td>0.521560</td>\n",
       "      <td>52155.951595</td>\n",
       "      <td>-2.197846</td>\n",
       "      <td>-1.076929e+02</td>\n",
       "      <td>2.555642e+06</td>\n",
       "      <td>-17.488984</td>\n",
       "      <td>0.000445</td>\n",
       "      <td>17.490272</td>\n",
       "      <td>-17.489430</td>\n",
       "      <td>8.420550e-04</td>\n",
       "    </tr>\n",
       "    <tr>\n",
       "      <th>3</th>\n",
       "      <td>48.998781</td>\n",
       "      <td>-239989.163314</td>\n",
       "      <td>0.521525</td>\n",
       "      <td>52152.477765</td>\n",
       "      <td>-3.473830</td>\n",
       "      <td>-1.702135e+02</td>\n",
       "      <td>2.555471e+06</td>\n",
       "      <td>-27.641249</td>\n",
       "      <td>0.000445</td>\n",
       "      <td>27.641984</td>\n",
       "      <td>-27.641694</td>\n",
       "      <td>2.900025e-04</td>\n",
       "    </tr>\n",
       "    <tr>\n",
       "      <th>4</th>\n",
       "      <td>48.999019</td>\n",
       "      <td>-240001.539448</td>\n",
       "      <td>0.521540</td>\n",
       "      <td>52154.033328</td>\n",
       "      <td>1.555564</td>\n",
       "      <td>7.622109e+01</td>\n",
       "      <td>2.555548e+06</td>\n",
       "      <td>12.377605</td>\n",
       "      <td>0.000445</td>\n",
       "      <td>-12.376134</td>\n",
       "      <td>12.377160</td>\n",
       "      <td>1.025945e-03</td>\n",
       "    </tr>\n",
       "    <tr>\n",
       "      <th>...</th>\n",
       "      <td>...</td>\n",
       "      <td>...</td>\n",
       "      <td>...</td>\n",
       "      <td>...</td>\n",
       "      <td>...</td>\n",
       "      <td>...</td>\n",
       "      <td>...</td>\n",
       "      <td>...</td>\n",
       "      <td>...</td>\n",
       "      <td>...</td>\n",
       "      <td>...</td>\n",
       "      <td>...</td>\n",
       "    </tr>\n",
       "    <tr>\n",
       "      <th>99999995</th>\n",
       "      <td>50.917948</td>\n",
       "      <td>-91794.845542</td>\n",
       "      <td>1.000000</td>\n",
       "      <td>100000.000000</td>\n",
       "      <td>-0.000000</td>\n",
       "      <td>-0.000000e+00</td>\n",
       "      <td>5.172088e+06</td>\n",
       "      <td>-0.979120</td>\n",
       "      <td>0.000962</td>\n",
       "      <td>0.980082</td>\n",
       "      <td>-0.980082</td>\n",
       "      <td>6.502638e-10</td>\n",
       "    </tr>\n",
       "    <tr>\n",
       "      <th>99999996</th>\n",
       "      <td>50.919191</td>\n",
       "      <td>-91919.059819</td>\n",
       "      <td>1.000000</td>\n",
       "      <td>100000.000000</td>\n",
       "      <td>-0.000000</td>\n",
       "      <td>-0.000000e+00</td>\n",
       "      <td>5.172088e+06</td>\n",
       "      <td>124.215239</td>\n",
       "      <td>0.000962</td>\n",
       "      <td>-124.214278</td>\n",
       "      <td>124.214278</td>\n",
       "      <td>-7.706547e-11</td>\n",
       "    </tr>\n",
       "    <tr>\n",
       "      <th>99999997</th>\n",
       "      <td>50.918909</td>\n",
       "      <td>-91890.866009</td>\n",
       "      <td>1.000000</td>\n",
       "      <td>100000.000000</td>\n",
       "      <td>-0.000000</td>\n",
       "      <td>-0.000000e+00</td>\n",
       "      <td>5.172088e+06</td>\n",
       "      <td>-28.192849</td>\n",
       "      <td>0.000962</td>\n",
       "      <td>28.193811</td>\n",
       "      <td>-28.193811</td>\n",
       "      <td>-6.678746e-11</td>\n",
       "    </tr>\n",
       "    <tr>\n",
       "      <th>99999998</th>\n",
       "      <td>50.919627</td>\n",
       "      <td>-91962.742379</td>\n",
       "      <td>1.000000</td>\n",
       "      <td>100000.000000</td>\n",
       "      <td>-0.000000</td>\n",
       "      <td>-0.000000e+00</td>\n",
       "      <td>5.172088e+06</td>\n",
       "      <td>71.877332</td>\n",
       "      <td>0.000962</td>\n",
       "      <td>-71.876370</td>\n",
       "      <td>71.876370</td>\n",
       "      <td>-6.515677e-11</td>\n",
       "    </tr>\n",
       "    <tr>\n",
       "      <th>99999999</th>\n",
       "      <td>50.918988</td>\n",
       "      <td>-91898.847943</td>\n",
       "      <td>1.000000</td>\n",
       "      <td>100000.000000</td>\n",
       "      <td>-0.000000</td>\n",
       "      <td>-0.000000e+00</td>\n",
       "      <td>5.172088e+06</td>\n",
       "      <td>-63.893475</td>\n",
       "      <td>0.000962</td>\n",
       "      <td>63.894437</td>\n",
       "      <td>-63.894437</td>\n",
       "      <td>-6.670575e-11</td>\n",
       "    </tr>\n",
       "  </tbody>\n",
       "</table>\n",
       "<p>100000000 rows × 12 columns</p>\n",
       "</div>"
      ],
      "text/plain": [
       "          Stock_Price   Option_Value     Delta    Shares_Held  \\\n",
       "0           49.000000 -240052.732327  0.521605   52160.466107   \n",
       "1           48.999647 -240034.295570  0.521581   52158.149441   \n",
       "2           48.999311 -240016.805298  0.521560   52155.951595   \n",
       "3           48.998781 -239989.163314  0.521525   52152.477765   \n",
       "4           48.999019 -240001.539448  0.521540   52154.033328   \n",
       "...               ...            ...       ...            ...   \n",
       "99999995    50.917948  -91794.845542  1.000000  100000.000000   \n",
       "99999996    50.919191  -91919.059819  1.000000  100000.000000   \n",
       "99999997    50.918909  -91890.866009  1.000000  100000.000000   \n",
       "99999998    50.919627  -91962.742379  1.000000  100000.000000   \n",
       "99999999    50.918988  -91898.847943  1.000000  100000.000000   \n",
       "\n",
       "          Shares_Purchased  Cost_of_Shares_Purchased  Cumulative_Cost  \\\n",
       "0             52160.466107              2.555863e+06     2.555863e+06   \n",
       "1                -2.316666             -1.135158e+02     2.555749e+06   \n",
       "2                -2.197846             -1.076929e+02     2.555642e+06   \n",
       "3                -3.473830             -1.702135e+02     2.555471e+06   \n",
       "4                 1.555564              7.622109e+01     2.555548e+06   \n",
       "...                    ...                       ...              ...   \n",
       "99999995         -0.000000             -0.000000e+00     5.172088e+06   \n",
       "99999996         -0.000000             -0.000000e+00     5.172088e+06   \n",
       "99999997         -0.000000             -0.000000e+00     5.172088e+06   \n",
       "99999998         -0.000000             -0.000000e+00     5.172088e+06   \n",
       "99999999         -0.000000             -0.000000e+00     5.172088e+06   \n",
       "\n",
       "           Share_PnL  Interest_Cost  Option_PnL  Portfolio_PnL  \\\n",
       "0                NaN            NaN         NaN            NaN   \n",
       "1         -18.435511       0.000445   18.436757     -18.435956   \n",
       "2         -17.488984       0.000445   17.490272     -17.489430   \n",
       "3         -27.641249       0.000445   27.641984     -27.641694   \n",
       "4          12.377605       0.000445  -12.376134      12.377160   \n",
       "...              ...            ...         ...            ...   \n",
       "99999995   -0.979120       0.000962    0.980082      -0.980082   \n",
       "99999996  124.215239       0.000962 -124.214278     124.214278   \n",
       "99999997  -28.192849       0.000962   28.193811     -28.193811   \n",
       "99999998   71.877332       0.000962  -71.876370      71.876370   \n",
       "99999999  -63.893475       0.000962   63.894437     -63.894437   \n",
       "\n",
       "          Hedged_Portfolio_PnL  \n",
       "0                          NaN  \n",
       "1                 8.011355e-04  \n",
       "2                 8.420550e-04  \n",
       "3                 2.900025e-04  \n",
       "4                 1.025945e-03  \n",
       "...                        ...  \n",
       "99999995          6.502638e-10  \n",
       "99999996         -7.706547e-11  \n",
       "99999997         -6.678746e-11  \n",
       "99999998         -6.515677e-11  \n",
       "99999999         -6.670575e-11  \n",
       "\n",
       "[100000000 rows x 12 columns]"
      ]
     },
     "execution_count": 55,
     "metadata": {},
     "output_type": "execute_result"
    }
   ],
   "source": [
    "summary_df['Shares_Held'] = -option_exposure*delta_array\n",
    "summary_df['Shares_Purchased'] = -summary_df['Shares_Held'].sub(summary_df['Shares_Held'].shift(-1).fillna(0)).shift().fillna(-summary_df['Shares_Held'])\n",
    "summary_df['Cost_of_Shares_Purchased'] = summary_df['Shares_Purchased'].mul(summary_df['Stock_Price'])\n",
    "summary_df['Cumulative_Cost'] = summary_df['Cost_of_Shares_Purchased'].cumsum()\n",
    "summary_df['Share_PnL'] = summary_df['Shares_Held'].shift()*(summary_df['Stock_Price'] - summary_df['Stock_Price'].shift())\n",
    "summary_df['Interest_Cost'] = (summary_df['Shares_Held']*summary_df['Stock_Price']).shift()*r*dt + summary_df['Option_Value'].shift()*r*dt\n",
    "summary_df['Option_PnL'] = summary_df['Option_Value'] - summary_df['Option_Value'].shift()\n",
    "summary_df['Portfolio_PnL'] = summary_df['Share_PnL'] - summary_df['Interest_Cost'] \n",
    "summary_df['Hedged_Portfolio_PnL'] = summary_df['Portfolio_PnL'] + summary_df['Option_PnL'] \n",
    "summary_df"
   ]
  },
  {
   "cell_type": "code",
   "execution_count": 56,
   "metadata": {},
   "outputs": [
    {
     "data": {
      "text/plain": [
       "[<matplotlib.lines.Line2D at 0x2ac0a23d340>]"
      ]
     },
     "execution_count": 56,
     "metadata": {},
     "output_type": "execute_result"
    },
    {
     "data": {
      "image/png": "[encoded data removed]",
      "text/plain": [
       "<Figure size 432x288 with 1 Axes>"
      ]
     },
     "metadata": {
      "needs_background": "light"
     },
     "output_type": "display_data"
    }
   ],
   "source": [
    "plt.plot(summary_df['Option_PnL'].cumsum())\n",
    "plt.plot(-summary_df['Portfolio_PnL'].cumsum())"
   ]
  },
  {
   "cell_type": "code",
   "execution_count": 57,
   "metadata": {},
   "outputs": [
    {
     "data": {
      "text/plain": [
       "[<matplotlib.lines.Line2D at 0x2ac6f978d90>]"
      ]
     },
     "execution_count": 57,
     "metadata": {},
     "output_type": "execute_result"
    },
    {
     "data": {
      "image/png": "[encoded data removed]",
      "text/plain": [
       "<Figure size 432x288 with 1 Axes>"
      ]
     },
     "metadata": {
      "needs_background": "light"
     },
     "output_type": "display_data"
    }
   ],
   "source": [
    "plt.plot(summary_df['Share_PnL'].cumsum())\n"
   ]
  },
  {
   "cell_type": "code",
   "execution_count": 58,
   "metadata": {},
   "outputs": [
    {
     "name": "stdout",
     "output_type": "stream",
     "text": [
      "Hedging Error: $33.75491359017906\n"
     ]
    }
   ],
   "source": [
    "hedging_pnl = summary_df['Option_PnL'].cumsum().iloc[-1]+summary_df['Portfolio_PnL'].cumsum().iloc[-1]\n",
    "print(f'Hedging Error: ${hedging_pnl}')\n"
   ]
  }
 ],
 "metadata": {
  "kernelspec": {
   "display_name": "Python 3.8.12 ('myenv3')",
   "language": "python",
   "name": "python3"
  },
  "language_info": {
   "codemirror_mode": {
    "name": "ipython",
    "version": 3
   },
   "file_extension": ".py",
   "mimetype": "text/x-python",
   "name": "python",
   "nbconvert_exporter": "python",
   "pygments_lexer": "ipython3",
   "version": "3.8.12"
  },
  "orig_nbformat": 4,
  "vscode": {
   "interpreter": {
    "hash": "0e2f4f987df87ba45bac6e3d2b5aac53efddd4cafd54719d4f43a49e15be5f4c"
   }
  }
 },
 "nbformat": 4,
 "nbformat_minor": 2
}
